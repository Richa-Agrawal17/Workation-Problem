{
 "cells": [
  {
   "cell_type": "markdown",
   "id": "de109c75",
   "metadata": {},
   "source": [
    "# Problem Statment"
   ]
  },
  {
   "cell_type": "markdown",
   "id": "a5518f68",
   "metadata": {},
   "source": [
    "The new covid-era has provided a new way of living the work-life balance. We have seen a lot of different websites providing packages to work from different locations. **From Kashmir to Kanyakumari, from Gujarat to Assam we have collected packages in and around India.** It becomes really difficult to find the best place with all the amenities such as **high-speed internet, a comfortable stay as well as within the budget.** To solve the real-world problem of finding the best deals for a calm and enjoying workation trip. **Workation is the best way to work at a remote location with a recreational and rejuvenating vacation for the team.**\n",
    "\n",
    "In this competition, one has to use the knowledge of machine learning, deep learning, and **model building to predict the price per person for your next workstation trip.** The data has more than 18000+ rows of different packages with the details like start location, hotel type, cost per person, destination, Itinerary, and many more."
   ]
  },
  {
   "cell_type": "raw",
   "id": "3153e240",
   "metadata": {},
   "source": [
    "Attributes:\n",
    "\n",
    "Uniq Id - Unique Identifier per row sample\n",
    "Package Name - Name of the tour package\n",
    "Package Type - Type of the tour package\n",
    "Destination - A destination place\n",
    "Itinerary - complete itinerary\n",
    "Places Covered - covered places in the itinerary\n",
    "Travel Date - Date of travel\n",
    "Hotel Details - Details of the hotel stay\n",
    "Start City - Start place for the travel\n",
    "Airline - Flight details\n",
    "Flight Stops - Intermediate stops if any\n",
    "Meals - Inflight meals or services\n",
    "Sightseeing Places Covered - Itinerary details regarding sightseeing\n",
    "Cancellation Rules - Cancellation policy as per travel company\n",
    "Per Person Price - Price of the tour package per person (Target Column)"
   ]
  },
  {
   "cell_type": "code",
   "execution_count": 1,
   "id": "dd6b431e",
   "metadata": {},
   "outputs": [],
   "source": [
    "import pandas as pd\n",
    "import numpy as np\n",
    "import seaborn as sns\n",
    "import matplotlib.pyplot as plt\n",
    "from warnings import filterwarnings\n",
    "filterwarnings('ignore')\n",
    "import re"
   ]
  },
  {
   "cell_type": "code",
   "execution_count": 2,
   "id": "631b65f8",
   "metadata": {},
   "outputs": [],
   "source": [
    "pd.set_option('display.max_columns',100)"
   ]
  },
  {
   "cell_type": "code",
   "execution_count": 3,
   "id": "9024c2f8",
   "metadata": {},
   "outputs": [],
   "source": [
    "train = pd.read_csv('Train.csv')"
   ]
  },
  {
   "cell_type": "code",
   "execution_count": 4,
   "id": "fb60c273",
   "metadata": {},
   "outputs": [],
   "source": [
    "test = pd.read_csv('Test.csv')"
   ]
  },
  {
   "cell_type": "code",
   "execution_count": 5,
   "id": "f3117f74",
   "metadata": {},
   "outputs": [
    {
     "data": {
      "text/html": [
       "<div>\n",
       "<style scoped>\n",
       "    .dataframe tbody tr th:only-of-type {\n",
       "        vertical-align: middle;\n",
       "    }\n",
       "\n",
       "    .dataframe tbody tr th {\n",
       "        vertical-align: top;\n",
       "    }\n",
       "\n",
       "    .dataframe thead th {\n",
       "        text-align: right;\n",
       "    }\n",
       "</style>\n",
       "<table border=\"1\" class=\"dataframe\">\n",
       "  <thead>\n",
       "    <tr style=\"text-align: right;\">\n",
       "      <th></th>\n",
       "      <th>Uniq Id</th>\n",
       "      <th>Package Name</th>\n",
       "      <th>Package Type</th>\n",
       "      <th>Destination</th>\n",
       "      <th>Itinerary</th>\n",
       "      <th>Places Covered</th>\n",
       "      <th>Travel Date</th>\n",
       "      <th>Hotel Details</th>\n",
       "      <th>Start City</th>\n",
       "      <th>Airline</th>\n",
       "      <th>Flight Stops</th>\n",
       "      <th>Meals</th>\n",
       "      <th>Sightseeing Places Covered</th>\n",
       "      <th>Cancellation Rules</th>\n",
       "      <th>Per Person Price</th>\n",
       "    </tr>\n",
       "  </thead>\n",
       "  <tbody>\n",
       "    <tr>\n",
       "      <th>0</th>\n",
       "      <td>e788ab76d9d8cf1e6ed2f139645ca5d1</td>\n",
       "      <td>Best of Shimla and Manali Holiday from Delhi</td>\n",
       "      <td>Standard</td>\n",
       "      <td>New Delhi|Shimla|Manali|Chandigarh</td>\n",
       "      <td>1N New Delhi . 2N Shimla . 2N Manali . 1N Chan...</td>\n",
       "      <td>New Delhi|Shimla|Manali|Chandigarh</td>\n",
       "      <td>30-07-2021</td>\n",
       "      <td>Not Available</td>\n",
       "      <td>Mumbai</td>\n",
       "      <td>Not Available</td>\n",
       "      <td>2</td>\n",
       "      <td>3</td>\n",
       "      <td>Not Available</td>\n",
       "      <td>Not Available</td>\n",
       "      <td>11509.0</td>\n",
       "    </tr>\n",
       "    <tr>\n",
       "      <th>1</th>\n",
       "      <td>178f892630ce3e335a5a41d5d83937fd</td>\n",
       "      <td>Kashmir Valley vacation</td>\n",
       "      <td>Premium</td>\n",
       "      <td>Srinagar|Pahalgam|Srinagar</td>\n",
       "      <td>1N Srinagar . 2N Pahalgam . 1N Srinagar</td>\n",
       "      <td>Srinagar|Pahalgam|Srinagar</td>\n",
       "      <td>08-12-2021</td>\n",
       "      <td>The Orchard Retreat &amp; Spa:4.6|WelcomHotel Pine...</td>\n",
       "      <td>New Delhi</td>\n",
       "      <td>IndiGo|IndiGo</td>\n",
       "      <td>0</td>\n",
       "      <td>5</td>\n",
       "      <td>Dal Lake | Avantipura Ruins | Mughal Gardens ...</td>\n",
       "      <td>Cancellation any time after making the 1st pay...</td>\n",
       "      <td>22485.5</td>\n",
       "    </tr>\n",
       "    <tr>\n",
       "      <th>2</th>\n",
       "      <td>f060f2954840503cc2fdaf495357b7df</td>\n",
       "      <td>Might of Mewar- Udaipur and Chittorgarh</td>\n",
       "      <td>Luxury</td>\n",
       "      <td>Udaipur|Chittorgarh</td>\n",
       "      <td>2N Udaipur . 1N Chittorgarh</td>\n",
       "      <td>Udaipur|Chittorgarh</td>\n",
       "      <td>26-04-2021</td>\n",
       "      <td>The Ananta:4.4|juSTa Lake Nahargarh Palace:4</td>\n",
       "      <td>New Delhi</td>\n",
       "      <td>IndiGo</td>\n",
       "      <td>0</td>\n",
       "      <td>4</td>\n",
       "      <td>Lake Pichola | Jag Mandir Palace | Saheliyon ...</td>\n",
       "      <td>Cancellation any time after making the 1st pay...</td>\n",
       "      <td>12421.5</td>\n",
       "    </tr>\n",
       "    <tr>\n",
       "      <th>3</th>\n",
       "      <td>32a19a6c171e67448f2346da46c619dc</td>\n",
       "      <td>Colorful Kerala ( Romantic Getaway )</td>\n",
       "      <td>Premium</td>\n",
       "      <td>Munnar|Kumarakom|Allepey|Kovalam and Poovar</td>\n",
       "      <td>2N Munnar . 1N Kumarakom . 1N Allepey . 2N Kov...</td>\n",
       "      <td>Munnar|Kumarakom|Allepey|Kovalam and Poovar</td>\n",
       "      <td>27-08-2021</td>\n",
       "      <td>Elixir Hills Suites Resort &amp; Spa-MMT Holidays ...</td>\n",
       "      <td>New Delhi</td>\n",
       "      <td>IndiGo</td>\n",
       "      <td>0</td>\n",
       "      <td>5</td>\n",
       "      <td>Mattupetty Dam | Echo Point | Tata Tea Museum...</td>\n",
       "      <td>Cancellation any time after making the 1st pay...</td>\n",
       "      <td>35967.0</td>\n",
       "    </tr>\n",
       "    <tr>\n",
       "      <th>4</th>\n",
       "      <td>107b068aa0ca03bc6248966f594d105f</td>\n",
       "      <td>A Week In Bangkok &amp; Pattaya</td>\n",
       "      <td>Premium</td>\n",
       "      <td>Pattaya|Bangkok</td>\n",
       "      <td>4N Pattaya . 3N Bangkok</td>\n",
       "      <td>Pattaya|Bangkok</td>\n",
       "      <td>12-12-2021</td>\n",
       "      <td>Dusit Thani Pattaya - MMT Special:4.5|Amari Wa...</td>\n",
       "      <td>New Delhi</td>\n",
       "      <td>Spicejet|Go Air</td>\n",
       "      <td>0</td>\n",
       "      <td>5</td>\n",
       "      <td>Coral Island Tour with Indian Lunch, Join Spe...</td>\n",
       "      <td>Cancellation any time after making the 1st pay...</td>\n",
       "      <td>25584.0</td>\n",
       "    </tr>\n",
       "  </tbody>\n",
       "</table>\n",
       "</div>"
      ],
      "text/plain": [
       "                            Uniq Id  \\\n",
       "0  e788ab76d9d8cf1e6ed2f139645ca5d1   \n",
       "1  178f892630ce3e335a5a41d5d83937fd   \n",
       "2  f060f2954840503cc2fdaf495357b7df   \n",
       "3  32a19a6c171e67448f2346da46c619dc   \n",
       "4  107b068aa0ca03bc6248966f594d105f   \n",
       "\n",
       "                                   Package Name Package Type  \\\n",
       "0  Best of Shimla and Manali Holiday from Delhi     Standard   \n",
       "1                       Kashmir Valley vacation      Premium   \n",
       "2       Might of Mewar- Udaipur and Chittorgarh       Luxury   \n",
       "3          Colorful Kerala ( Romantic Getaway )      Premium   \n",
       "4                   A Week In Bangkok & Pattaya      Premium   \n",
       "\n",
       "                                   Destination  \\\n",
       "0           New Delhi|Shimla|Manali|Chandigarh   \n",
       "1                   Srinagar|Pahalgam|Srinagar   \n",
       "2                          Udaipur|Chittorgarh   \n",
       "3  Munnar|Kumarakom|Allepey|Kovalam and Poovar   \n",
       "4                              Pattaya|Bangkok   \n",
       "\n",
       "                                           Itinerary  \\\n",
       "0  1N New Delhi . 2N Shimla . 2N Manali . 1N Chan...   \n",
       "1            1N Srinagar . 2N Pahalgam . 1N Srinagar   \n",
       "2                        2N Udaipur . 1N Chittorgarh   \n",
       "3  2N Munnar . 1N Kumarakom . 1N Allepey . 2N Kov...   \n",
       "4                            4N Pattaya . 3N Bangkok   \n",
       "\n",
       "                                Places Covered Travel Date  \\\n",
       "0           New Delhi|Shimla|Manali|Chandigarh  30-07-2021   \n",
       "1                   Srinagar|Pahalgam|Srinagar  08-12-2021   \n",
       "2                          Udaipur|Chittorgarh  26-04-2021   \n",
       "3  Munnar|Kumarakom|Allepey|Kovalam and Poovar  27-08-2021   \n",
       "4                              Pattaya|Bangkok  12-12-2021   \n",
       "\n",
       "                                       Hotel Details Start City  \\\n",
       "0                                      Not Available     Mumbai   \n",
       "1  The Orchard Retreat & Spa:4.6|WelcomHotel Pine...  New Delhi   \n",
       "2       The Ananta:4.4|juSTa Lake Nahargarh Palace:4  New Delhi   \n",
       "3  Elixir Hills Suites Resort & Spa-MMT Holidays ...  New Delhi   \n",
       "4  Dusit Thani Pattaya - MMT Special:4.5|Amari Wa...  New Delhi   \n",
       "\n",
       "           Airline  Flight Stops  Meals  \\\n",
       "0    Not Available             2      3   \n",
       "1    IndiGo|IndiGo             0      5   \n",
       "2           IndiGo             0      4   \n",
       "3           IndiGo             0      5   \n",
       "4  Spicejet|Go Air             0      5   \n",
       "\n",
       "                          Sightseeing Places Covered  \\\n",
       "0                                      Not Available   \n",
       "1   Dal Lake | Avantipura Ruins | Mughal Gardens ...   \n",
       "2   Lake Pichola | Jag Mandir Palace | Saheliyon ...   \n",
       "3   Mattupetty Dam | Echo Point | Tata Tea Museum...   \n",
       "4   Coral Island Tour with Indian Lunch, Join Spe...   \n",
       "\n",
       "                                  Cancellation Rules  Per Person Price  \n",
       "0                                      Not Available           11509.0  \n",
       "1  Cancellation any time after making the 1st pay...           22485.5  \n",
       "2  Cancellation any time after making the 1st pay...           12421.5  \n",
       "3  Cancellation any time after making the 1st pay...           35967.0  \n",
       "4  Cancellation any time after making the 1st pay...           25584.0  "
      ]
     },
     "execution_count": 5,
     "metadata": {},
     "output_type": "execute_result"
    }
   ],
   "source": [
    "# Let's Preview the dataset\n",
    "\n",
    "train.head()"
   ]
  },
  {
   "cell_type": "code",
   "execution_count": 6,
   "id": "a6cda3a3",
   "metadata": {},
   "outputs": [
    {
     "data": {
      "text/plain": [
       "((21000, 15), (9000, 14), (30000, 15))"
      ]
     },
     "execution_count": 6,
     "metadata": {},
     "output_type": "execute_result"
    }
   ],
   "source": [
    "# Combine train and test\n",
    "\n",
    "combined = pd.concat([train,test],ignore_index=True)\n",
    "\n",
    "train.shape, test.shape, combined.shape"
   ]
  },
  {
   "cell_type": "code",
   "execution_count": 7,
   "id": "eb119d9e",
   "metadata": {},
   "outputs": [
    {
     "data": {
      "text/html": [
       "<div>\n",
       "<style scoped>\n",
       "    .dataframe tbody tr th:only-of-type {\n",
       "        vertical-align: middle;\n",
       "    }\n",
       "\n",
       "    .dataframe tbody tr th {\n",
       "        vertical-align: top;\n",
       "    }\n",
       "\n",
       "    .dataframe thead th {\n",
       "        text-align: right;\n",
       "    }\n",
       "</style>\n",
       "<table border=\"1\" class=\"dataframe\">\n",
       "  <thead>\n",
       "    <tr style=\"text-align: right;\">\n",
       "      <th></th>\n",
       "      <th>Uniq Id</th>\n",
       "      <th>Package Name</th>\n",
       "      <th>Package Type</th>\n",
       "      <th>Destination</th>\n",
       "      <th>Itinerary</th>\n",
       "      <th>Places Covered</th>\n",
       "      <th>Travel Date</th>\n",
       "      <th>Hotel Details</th>\n",
       "      <th>Start City</th>\n",
       "      <th>Airline</th>\n",
       "      <th>Flight Stops</th>\n",
       "      <th>Meals</th>\n",
       "      <th>Sightseeing Places Covered</th>\n",
       "      <th>Cancellation Rules</th>\n",
       "      <th>Per Person Price</th>\n",
       "    </tr>\n",
       "  </thead>\n",
       "  <tbody>\n",
       "    <tr>\n",
       "      <th>0</th>\n",
       "      <td>e788ab76d9d8cf1e6ed2f139645ca5d1</td>\n",
       "      <td>Best of Shimla and Manali Holiday from Delhi</td>\n",
       "      <td>Standard</td>\n",
       "      <td>New Delhi|Shimla|Manali|Chandigarh</td>\n",
       "      <td>1N New Delhi . 2N Shimla . 2N Manali . 1N Chan...</td>\n",
       "      <td>New Delhi|Shimla|Manali|Chandigarh</td>\n",
       "      <td>30-07-2021</td>\n",
       "      <td>Not Available</td>\n",
       "      <td>Mumbai</td>\n",
       "      <td>Not Available</td>\n",
       "      <td>2</td>\n",
       "      <td>3</td>\n",
       "      <td>Not Available</td>\n",
       "      <td>Not Available</td>\n",
       "      <td>11509.0</td>\n",
       "    </tr>\n",
       "  </tbody>\n",
       "</table>\n",
       "</div>"
      ],
      "text/plain": [
       "                            Uniq Id  \\\n",
       "0  e788ab76d9d8cf1e6ed2f139645ca5d1   \n",
       "\n",
       "                                   Package Name Package Type  \\\n",
       "0  Best of Shimla and Manali Holiday from Delhi     Standard   \n",
       "\n",
       "                          Destination  \\\n",
       "0  New Delhi|Shimla|Manali|Chandigarh   \n",
       "\n",
       "                                           Itinerary  \\\n",
       "0  1N New Delhi . 2N Shimla . 2N Manali . 1N Chan...   \n",
       "\n",
       "                       Places Covered Travel Date  Hotel Details Start City  \\\n",
       "0  New Delhi|Shimla|Manali|Chandigarh  30-07-2021  Not Available     Mumbai   \n",
       "\n",
       "         Airline  Flight Stops  Meals Sightseeing Places Covered  \\\n",
       "0  Not Available             2      3              Not Available   \n",
       "\n",
       "  Cancellation Rules  Per Person Price  \n",
       "0      Not Available           11509.0  "
      ]
     },
     "execution_count": 7,
     "metadata": {},
     "output_type": "execute_result"
    }
   ],
   "source": [
    "combined.head(1)"
   ]
  },
  {
   "cell_type": "code",
   "execution_count": 8,
   "id": "b5ba0760",
   "metadata": {},
   "outputs": [
    {
     "data": {
      "text/plain": [
       "4"
      ]
     },
     "execution_count": 8,
     "metadata": {},
     "output_type": "execute_result"
    }
   ],
   "source": [
    "len(combined['Places Covered'][0].split('|'))"
   ]
  },
  {
   "cell_type": "code",
   "execution_count": 9,
   "id": "f63b90d6",
   "metadata": {},
   "outputs": [
    {
     "data": {
      "text/plain": [
       "'Munnar|Kumarakom|Allepey|Kovalam|Poovar'"
      ]
     },
     "execution_count": 9,
     "metadata": {},
     "output_type": "execute_result"
    }
   ],
   "source": [
    "combined['Places Covered'][3].replace(\" and \",\"|\")"
   ]
  },
  {
   "cell_type": "code",
   "execution_count": 10,
   "id": "9c6a1fc0",
   "metadata": {},
   "outputs": [],
   "source": [
    "combined.loc[combined['Destination']=='Munnar|Kumarakom|Allepey|Kovalam and Poovar', 'Destination']=\\\n",
    "'Munnar|Kumarakom|Allepey|Kovalam|Poovar'"
   ]
  },
  {
   "cell_type": "code",
   "execution_count": 11,
   "id": "31958fb3",
   "metadata": {
    "scrolled": false
   },
   "outputs": [],
   "source": [
    "# combined['Destination'].unique()   \n",
    "\n",
    "#'Kovalam and Poovar|Kanyakumari'\n",
    "# 'Cochin|Munnar|Allepey|Kovalam and Poovar'\n",
    "# 'Cochin|Munnar|Thekkady|Allepey|Kovalam and Poovar'\n",
    "# 'Allepey|Kovalam and Poovar'\n",
    "# 'Munnar|Allepey|Kovalam and Poovar'\n",
    "# 'Kovalam and Poovar|Allepey|Thekkady|Munnar'\n",
    "#  'Munnar|Thekkady|Allepey|Kovalam and Poovar'\n",
    "#  'Munnar|Kumarakom|Kovalam and Poovar'\n",
    "# 'Madurai|Rameshwaram|Kanyakumari|Kovalam and Poovar'\n",
    "# 'Cochin|Munnar|Thekkady|Kovalam and Poovar|Kanyakumari|Rameshwaram|Madurai'\n",
    "# 'Kanyakumari|Kovalam and Poovar'\n",
    "# 'Cochin|Kumarakom|Kovalam and Poovar'\n",
    "# 'Munnar|Allepey|Kumarakom|Kovalam and Poovar'\n",
    "# 'Munnar|Thekkady|Kovalam and Poovar'\n",
    "# 'Cochin|Munnar|Thekkady|Kovalam and Poovar|Allepey'\n",
    "# 'Munnar|Thekkady|Kumarakom|Kovalam and Poovar'\n",
    "# 'Cochin|Thekkady|Allepey|Kovalam and Poovar'\n",
    "# 'Cochin|Munnar|Thekkady|Kumarakom|Kovalam and Poovar'\n",
    "# 'Munnar|Thekkady|Allepey|Kovalam and Poovar|Cochin'\n",
    "# 'Kovalam and Poovar|Allepey|Munnar'\n",
    "# 'Munnar|Thekkady|Kovalam and Poovar|Allepey'\n",
    "# 'Munnar|Allepey|Kovalam and Poovar|Kanyakumari'\n",
    "# 'Nasik|Shirdi|Aurangabad|Ahmednagar|Lonavala And Khandala'\n",
    "# 'Mumbai|Alibagh|Ganpatipule|Lonavala And Khandala'"
   ]
  },
  {
   "cell_type": "code",
   "execution_count": 12,
   "id": "62d0f44d",
   "metadata": {},
   "outputs": [
    {
     "name": "stdout",
     "output_type": "stream",
     "text": [
      "Munnar|Kumarakom|Allepey|Kovalam|Poovar\n"
     ]
    }
   ],
   "source": [
    "text = 'Munnar|Kumarakom|Allepey|Kovalam and Poovar'\n",
    "if \"and\" in text:\n",
    "    newtext = text.replace(\" and \",\"|\")\n",
    "else:\n",
    "    print(text)\n",
    "print(newtext)"
   ]
  },
  {
   "cell_type": "code",
   "execution_count": 13,
   "id": "eccf02e6",
   "metadata": {},
   "outputs": [],
   "source": [
    "def and_(x):\n",
    "    if \"and\" in x:\n",
    "        return x.replace(\" and \",\"|\")\n",
    "    else:\n",
    "        return x"
   ]
  },
  {
   "cell_type": "code",
   "execution_count": 14,
   "id": "0da7568e",
   "metadata": {},
   "outputs": [],
   "source": [
    "df = pd.DataFrame({\"location\":[\"Jaipur|Ajmer\",\"Himachal and Kashmir\",\"Himachal And Uttrakhand\"]})"
   ]
  },
  {
   "cell_type": "code",
   "execution_count": 15,
   "id": "73111aaa",
   "metadata": {},
   "outputs": [
    {
     "data": {
      "text/plain": [
       "0               Jaipur|Ajmer\n",
       "1           Himachal|Kashmir\n",
       "2    Himachal And Uttrakhand\n",
       "Name: location, dtype: object"
      ]
     },
     "execution_count": 15,
     "metadata": {},
     "output_type": "execute_result"
    }
   ],
   "source": [
    "df['location'].apply(and_)"
   ]
  },
  {
   "cell_type": "code",
   "execution_count": 16,
   "id": "3127af29",
   "metadata": {},
   "outputs": [],
   "source": [
    "def And_(x):\n",
    "    if \"And\" in x:\n",
    "        return x.replace(\" And \",\"|\")\n",
    "    else:\n",
    "        return x"
   ]
  },
  {
   "cell_type": "code",
   "execution_count": 17,
   "id": "e58cdb30",
   "metadata": {},
   "outputs": [
    {
     "data": {
      "text/plain": [
       "0            Jaipur|Ajmer\n",
       "1    Himachal and Kashmir\n",
       "2     Himachal|Uttrakhand\n",
       "Name: location, dtype: object"
      ]
     },
     "execution_count": 17,
     "metadata": {},
     "output_type": "execute_result"
    }
   ],
   "source": [
    "df['location'].apply(And_)"
   ]
  },
  {
   "cell_type": "code",
   "execution_count": 18,
   "id": "ca8bfe2c",
   "metadata": {},
   "outputs": [],
   "source": [
    "# Destination\n",
    "\n",
    "combined['Destination'] = combined.Destination.apply(and_)"
   ]
  },
  {
   "cell_type": "code",
   "execution_count": 19,
   "id": "13f9ed81",
   "metadata": {},
   "outputs": [],
   "source": [
    "combined['Destination'] = combined.Destination.apply(And_)"
   ]
  },
  {
   "cell_type": "code",
   "execution_count": 20,
   "id": "27b5b0ca",
   "metadata": {},
   "outputs": [],
   "source": [
    "# count of placed visited\n",
    "places = []\n",
    "for i in combined['Destination']:\n",
    "    places.append(len(i.split(\"|\")))\n",
    "    \n",
    "combined['Count_Destination'] = pd.Series(places)"
   ]
  },
  {
   "cell_type": "code",
   "execution_count": 21,
   "id": "a5aa0dd7",
   "metadata": {},
   "outputs": [],
   "source": [
    "# Sightseeing Places Covered\n",
    "\n",
    "combined['Sightseeing Places Covered'] = combined['Sightseeing Places Covered'].apply(and_)"
   ]
  },
  {
   "cell_type": "code",
   "execution_count": 22,
   "id": "fd203f75",
   "metadata": {},
   "outputs": [],
   "source": [
    "# Count of Sights Visited\n",
    "\n",
    "sights = []\n",
    "for i in combined['Sightseeing Places Covered']:\n",
    "    sights.append(len(i.split('|')))\n",
    "    \n",
    "combined['Count_Sightseeing'] = pd.Series(sights)"
   ]
  },
  {
   "cell_type": "code",
   "execution_count": 23,
   "id": "9fa768ab",
   "metadata": {},
   "outputs": [
    {
     "data": {
      "image/png": "[encoded data removed]",
      "text/plain": [
       "<Figure size 1000x500 with 1 Axes>"
      ]
     },
     "metadata": {},
     "output_type": "display_data"
    }
   ],
   "source": [
    "# Lets analyze the target variable\n",
    "\n",
    "# Note - Genrally Price,Revenue, Profits ..... etc are +vely skewed.....\n",
    "\n",
    "plt.figure(figsize=[10,5])\n",
    "sns.distplot(combined['Per Person Price'],color = 'coral')\n",
    "plt.show()"
   ]
  },
  {
   "cell_type": "code",
   "execution_count": 24,
   "id": "8908f951",
   "metadata": {},
   "outputs": [
    {
     "data": {
      "text/plain": [
       "count     21000.000000\n",
       "mean      20059.330381\n",
       "std       11643.641766\n",
       "min         791.000000\n",
       "25%       12461.000000\n",
       "50%       17765.500000\n",
       "75%       25081.375000\n",
       "max      171062.500000\n",
       "Name: Per Person Price, dtype: float64"
      ]
     },
     "execution_count": 24,
     "metadata": {},
     "output_type": "execute_result"
    }
   ],
   "source": [
    "combined['Per Person Price'].describe()"
   ]
  },
  {
   "cell_type": "code",
   "execution_count": 25,
   "id": "070ede05",
   "metadata": {},
   "outputs": [
    {
     "data": {
      "text/html": [
       "<div>\n",
       "<style scoped>\n",
       "    .dataframe tbody tr th:only-of-type {\n",
       "        vertical-align: middle;\n",
       "    }\n",
       "\n",
       "    .dataframe tbody tr th {\n",
       "        vertical-align: top;\n",
       "    }\n",
       "\n",
       "    .dataframe thead th {\n",
       "        text-align: right;\n",
       "    }\n",
       "</style>\n",
       "<table border=\"1\" class=\"dataframe\">\n",
       "  <thead>\n",
       "    <tr style=\"text-align: right;\">\n",
       "      <th></th>\n",
       "      <th>Uniq Id</th>\n",
       "      <th>Package Name</th>\n",
       "      <th>Package Type</th>\n",
       "      <th>Destination</th>\n",
       "      <th>Itinerary</th>\n",
       "      <th>Places Covered</th>\n",
       "      <th>Travel Date</th>\n",
       "      <th>Hotel Details</th>\n",
       "      <th>Start City</th>\n",
       "      <th>Airline</th>\n",
       "      <th>Flight Stops</th>\n",
       "      <th>Meals</th>\n",
       "      <th>Sightseeing Places Covered</th>\n",
       "      <th>Cancellation Rules</th>\n",
       "      <th>Per Person Price</th>\n",
       "      <th>Count_Destination</th>\n",
       "      <th>Count_Sightseeing</th>\n",
       "    </tr>\n",
       "  </thead>\n",
       "  <tbody>\n",
       "    <tr>\n",
       "      <th>0</th>\n",
       "      <td>e788ab76d9d8cf1e6ed2f139645ca5d1</td>\n",
       "      <td>Best of Shimla and Manali Holiday from Delhi</td>\n",
       "      <td>Standard</td>\n",
       "      <td>New Delhi|Shimla|Manali|Chandigarh</td>\n",
       "      <td>1N New Delhi . 2N Shimla . 2N Manali . 1N Chan...</td>\n",
       "      <td>New Delhi|Shimla|Manali|Chandigarh</td>\n",
       "      <td>30-07-2021</td>\n",
       "      <td>Not Available</td>\n",
       "      <td>Mumbai</td>\n",
       "      <td>Not Available</td>\n",
       "      <td>2</td>\n",
       "      <td>3</td>\n",
       "      <td>Not Available</td>\n",
       "      <td>Not Available</td>\n",
       "      <td>11509.0</td>\n",
       "      <td>4</td>\n",
       "      <td>1</td>\n",
       "    </tr>\n",
       "    <tr>\n",
       "      <th>1</th>\n",
       "      <td>178f892630ce3e335a5a41d5d83937fd</td>\n",
       "      <td>Kashmir Valley vacation</td>\n",
       "      <td>Premium</td>\n",
       "      <td>Srinagar|Pahalgam|Srinagar</td>\n",
       "      <td>1N Srinagar . 2N Pahalgam . 1N Srinagar</td>\n",
       "      <td>Srinagar|Pahalgam|Srinagar</td>\n",
       "      <td>08-12-2021</td>\n",
       "      <td>The Orchard Retreat &amp; Spa:4.6|WelcomHotel Pine...</td>\n",
       "      <td>New Delhi</td>\n",
       "      <td>IndiGo|IndiGo</td>\n",
       "      <td>0</td>\n",
       "      <td>5</td>\n",
       "      <td>Dal Lake | Avantipura Ruins | Mughal Gardens ...</td>\n",
       "      <td>Cancellation any time after making the 1st pay...</td>\n",
       "      <td>22485.5</td>\n",
       "      <td>3</td>\n",
       "      <td>7</td>\n",
       "    </tr>\n",
       "  </tbody>\n",
       "</table>\n",
       "</div>"
      ],
      "text/plain": [
       "                            Uniq Id  \\\n",
       "0  e788ab76d9d8cf1e6ed2f139645ca5d1   \n",
       "1  178f892630ce3e335a5a41d5d83937fd   \n",
       "\n",
       "                                   Package Name Package Type  \\\n",
       "0  Best of Shimla and Manali Holiday from Delhi     Standard   \n",
       "1                       Kashmir Valley vacation      Premium   \n",
       "\n",
       "                          Destination  \\\n",
       "0  New Delhi|Shimla|Manali|Chandigarh   \n",
       "1          Srinagar|Pahalgam|Srinagar   \n",
       "\n",
       "                                           Itinerary  \\\n",
       "0  1N New Delhi . 2N Shimla . 2N Manali . 1N Chan...   \n",
       "1            1N Srinagar . 2N Pahalgam . 1N Srinagar   \n",
       "\n",
       "                       Places Covered Travel Date  \\\n",
       "0  New Delhi|Shimla|Manali|Chandigarh  30-07-2021   \n",
       "1          Srinagar|Pahalgam|Srinagar  08-12-2021   \n",
       "\n",
       "                                       Hotel Details Start City  \\\n",
       "0                                      Not Available     Mumbai   \n",
       "1  The Orchard Retreat & Spa:4.6|WelcomHotel Pine...  New Delhi   \n",
       "\n",
       "         Airline  Flight Stops  Meals  \\\n",
       "0  Not Available             2      3   \n",
       "1  IndiGo|IndiGo             0      5   \n",
       "\n",
       "                          Sightseeing Places Covered  \\\n",
       "0                                      Not Available   \n",
       "1   Dal Lake | Avantipura Ruins | Mughal Gardens ...   \n",
       "\n",
       "                                  Cancellation Rules  Per Person Price  \\\n",
       "0                                      Not Available           11509.0   \n",
       "1  Cancellation any time after making the 1st pay...           22485.5   \n",
       "\n",
       "   Count_Destination  Count_Sightseeing  \n",
       "0                  4                  1  \n",
       "1                  3                  7  "
      ]
     },
     "execution_count": 25,
     "metadata": {},
     "output_type": "execute_result"
    }
   ],
   "source": [
    "combined.head(2)"
   ]
  },
  {
   "cell_type": "code",
   "execution_count": 26,
   "id": "9e08c95a",
   "metadata": {},
   "outputs": [
    {
     "data": {
      "text/html": [
       "<div>\n",
       "<style scoped>\n",
       "    .dataframe tbody tr th:only-of-type {\n",
       "        vertical-align: middle;\n",
       "    }\n",
       "\n",
       "    .dataframe tbody tr th {\n",
       "        vertical-align: top;\n",
       "    }\n",
       "\n",
       "    .dataframe thead th {\n",
       "        text-align: right;\n",
       "    }\n",
       "</style>\n",
       "<table border=\"1\" class=\"dataframe\">\n",
       "  <thead>\n",
       "    <tr style=\"text-align: right;\">\n",
       "      <th></th>\n",
       "      <th>Uniq Id</th>\n",
       "      <th>Package Name</th>\n",
       "      <th>Package Type</th>\n",
       "      <th>Destination</th>\n",
       "      <th>Itinerary</th>\n",
       "      <th>Places Covered</th>\n",
       "      <th>Travel Date</th>\n",
       "      <th>Hotel Details</th>\n",
       "      <th>Start City</th>\n",
       "      <th>Airline</th>\n",
       "      <th>Flight Stops</th>\n",
       "      <th>Meals</th>\n",
       "      <th>Sightseeing Places Covered</th>\n",
       "      <th>Cancellation Rules</th>\n",
       "      <th>Per Person Price</th>\n",
       "      <th>Count_Destination</th>\n",
       "      <th>Count_Sightseeing</th>\n",
       "    </tr>\n",
       "  </thead>\n",
       "  <tbody>\n",
       "  </tbody>\n",
       "</table>\n",
       "</div>"
      ],
      "text/plain": [
       "Empty DataFrame\n",
       "Columns: [Uniq Id, Package Name, Package Type, Destination, Itinerary, Places Covered, Travel Date, Hotel Details, Start City, Airline, Flight Stops, Meals, Sightseeing Places Covered, Cancellation Rules, Per Person Price, Count_Destination, Count_Sightseeing]\n",
       "Index: []"
      ]
     },
     "execution_count": 26,
     "metadata": {},
     "output_type": "execute_result"
    }
   ],
   "source": [
    "# Flights  = Not Available\n",
    "\n",
    "combined.loc[(combined['Airline'] == 'Not Available') & (combined['Flight Stops'] == 0) & (combined['Meals']==0)]\n",
    "\n",
    "# As per the data, people have ordered meals irrespecitve of flight information.\n",
    "# This suggest that all the customers in the data have opted for flights.\n",
    "# Now we will find out the count of flights for each passenger."
   ]
  },
  {
   "cell_type": "code",
   "execution_count": 27,
   "id": "a8bcf2af",
   "metadata": {},
   "outputs": [],
   "source": [
    "# Extracting the count of flights taken\n",
    "\n",
    "combined['Airline'] = combined['Airline'].apply(and_)\n",
    "combined['Count_Airline'] = combined.Airline.apply(lambda x:len(x.split(\"|\")))"
   ]
  },
  {
   "cell_type": "code",
   "execution_count": 28,
   "id": "513c11ca",
   "metadata": {},
   "outputs": [],
   "source": [
    "# Convert the Travel Date into DateTime \n",
    "\n",
    "combined['Travel Date'] = pd.to_datetime(combined['Travel Date'])"
   ]
  },
  {
   "cell_type": "code",
   "execution_count": 29,
   "id": "c47407d9",
   "metadata": {},
   "outputs": [],
   "source": [
    "# combined.info()\n",
    "\n",
    "# Extracting Date,Month and Year\n",
    "\n",
    "combined['Year'] = combined['Travel Date'].dt.year\n",
    "combined['Month'] = combined['Travel Date'].dt.month\n",
    "combined['Day'] = combined['Travel Date'].dt.day"
   ]
  },
  {
   "cell_type": "code",
   "execution_count": 30,
   "id": "b9c2bf4e",
   "metadata": {},
   "outputs": [],
   "source": [
    "# Identify Pattern between Month and Target Variable\n",
    "\n",
    "sns.set_style(\"whitegrid\")\n",
    "max_month = combined.groupby(\"Month\")['Per Person Price'].max()"
   ]
  },
  {
   "cell_type": "code",
   "execution_count": 31,
   "id": "cce191e5",
   "metadata": {},
   "outputs": [
    {
     "data": {
      "text/plain": [
       "Month\n",
       "1     134981.0\n",
       "2     125611.5\n",
       "3     124621.0\n",
       "4     159740.0\n",
       "5     171062.5\n",
       "6     101423.5\n",
       "7     153795.0\n",
       "8     112493.5\n",
       "9     166758.0\n",
       "10    170763.0\n",
       "11    136155.5\n",
       "12    115337.0\n",
       "Name: Per Person Price, dtype: float64"
      ]
     },
     "execution_count": 31,
     "metadata": {},
     "output_type": "execute_result"
    }
   ],
   "source": [
    "max_month"
   ]
  },
  {
   "cell_type": "code",
   "execution_count": 32,
   "id": "362adea0",
   "metadata": {},
   "outputs": [
    {
     "data": {
      "image/png": "[encoded data removed]",
      "text/plain": [
       "<Figure size 640x480 with 1 Axes>"
      ]
     },
     "metadata": {},
     "output_type": "display_data"
    }
   ],
   "source": [
    "max_month.plot(kind='line',marker=\"o\")\n",
    "plt.title('Month wise Max Price per person')\n",
    "plt.show()"
   ]
  },
  {
   "cell_type": "code",
   "execution_count": 33,
   "id": "40a25556",
   "metadata": {},
   "outputs": [],
   "source": [
    "# 4,5,7,9,10  - Peak Months\n",
    "\n",
    "peak = [4,5,7,9,10]\n",
    "def peaks(x):\n",
    "    if x in peak:\n",
    "        return('High_Paying_Months')\n",
    "    else:\n",
    "        return('Lean_Months')"
   ]
  },
  {
   "cell_type": "code",
   "execution_count": 34,
   "id": "c58678b6",
   "metadata": {},
   "outputs": [],
   "source": [
    "combined['Month_Cat'] = combined['Month'].apply(peaks)"
   ]
  },
  {
   "cell_type": "code",
   "execution_count": 35,
   "id": "1e35a383",
   "metadata": {},
   "outputs": [
    {
     "data": {
      "image/png": "[encoded data removed]",
      "text/plain": [
       "<Figure size 640x480 with 1 Axes>"
      ]
     },
     "metadata": {},
     "output_type": "display_data"
    }
   ],
   "source": [
    "sns.boxplot(x='Month_Cat',y = 'Per Person Price',data = combined)\n",
    "plt.show()"
   ]
  },
  {
   "cell_type": "code",
   "execution_count": 36,
   "id": "6abcb7e9",
   "metadata": {},
   "outputs": [],
   "source": [
    "# Identify Pattern between Day and Target Variable\n",
    "max_days = combined.groupby(\"Day\")['Per Person Price'].max()"
   ]
  },
  {
   "cell_type": "code",
   "execution_count": 37,
   "id": "11bd1ee1",
   "metadata": {},
   "outputs": [
    {
     "data": {
      "image/png": "[encoded data removed]",
      "text/plain": [
       "<Figure size 1500x800 with 1 Axes>"
      ]
     },
     "metadata": {},
     "output_type": "display_data"
    }
   ],
   "source": [
    "plt.figure(figsize=(15,8))\n",
    "max_days.plot(kind='line',marker=\"o\")\n",
    "plt.title('Day wise Max Price per person')\n",
    "plt.show()"
   ]
  },
  {
   "cell_type": "code",
   "execution_count": 38,
   "id": "69bf567c",
   "metadata": {},
   "outputs": [],
   "source": [
    "# 5,8,10,11,13,15,18,19,22,24,27,29\n",
    "\n",
    "peak_dates = [5,8,10,11,13,15,18,19,22,24,27,29]\n",
    "def peaks(x):\n",
    "    if x in peak_dates:\n",
    "        return('High_Paying_Days')\n",
    "    else:\n",
    "        return('Lean_Days')"
   ]
  },
  {
   "cell_type": "code",
   "execution_count": 39,
   "id": "0fd08a09",
   "metadata": {},
   "outputs": [],
   "source": [
    "combined['Day_Cat'] = combined['Day'].apply(peaks)"
   ]
  },
  {
   "cell_type": "code",
   "execution_count": 40,
   "id": "5266586d",
   "metadata": {},
   "outputs": [
    {
     "data": {
      "image/png": "[encoded data removed]",
      "text/plain": [
       "<Figure size 640x480 with 1 Axes>"
      ]
     },
     "metadata": {},
     "output_type": "display_data"
    }
   ],
   "source": [
    "sns.boxplot(x='Day_Cat',y = 'Per Person Price',data = combined)\n",
    "plt.show()"
   ]
  },
  {
   "cell_type": "code",
   "execution_count": 41,
   "id": "83d063d2",
   "metadata": {},
   "outputs": [
    {
     "data": {
      "image/png": "[encoded data removed]",
      "text/plain": [
       "<Figure size 640x480 with 1 Axes>"
      ]
     },
     "metadata": {},
     "output_type": "display_data"
    }
   ],
   "source": [
    "sns.boxplot(x='Year',y = 'Per Person Price',data = combined)\n",
    "plt.show()"
   ]
  },
  {
   "cell_type": "raw",
   "id": "dd29a78b",
   "metadata": {},
   "source": [
    "The Just Dial Contact Number is 0888888888 and their revenue for 2023-24 has been $100 Mils."
   ]
  },
  {
   "cell_type": "code",
   "execution_count": 42,
   "id": "7bbed89d",
   "metadata": {},
   "outputs": [
    {
     "name": "stdout",
     "output_type": "stream",
     "text": [
      "['0888888888']\n",
      "100\n"
     ]
    }
   ],
   "source": [
    "text = 'The Just Dial Contact Number is 0888888888 and their revenue for 2023-24 has been $100 Mils.'\n",
    "print(re.findall(\"\\d{10}\",text))\n",
    "print(re.findall(\"\\d+\",text)[-1])"
   ]
  },
  {
   "cell_type": "raw",
   "id": "88a169a7",
   "metadata": {},
   "source": [
    "The Just Dial Contact Number is 0888888888 and their revenue for 2023-24 has been $100 Mils. However, the CEO number of Just Dial is (999)-233-4666."
   ]
  },
  {
   "cell_type": "code",
   "execution_count": 43,
   "id": "838146bd",
   "metadata": {},
   "outputs": [
    {
     "name": "stdout",
     "output_type": "stream",
     "text": [
      "['0888888888', '(999)-233-4666']\n"
     ]
    }
   ],
   "source": [
    "text = 'The Just Dial Contact Number is 0888888888 and their revenue for 2023-24 has been $100 Mils. However, the CEO number of Just Dial is (999)-233-4666.'\n",
    "print(re.findall(\"\\d{10}|\\(\\d{3}\\)-\\d+-\\d+\",text))"
   ]
  },
  {
   "cell_type": "code",
   "execution_count": null,
   "id": "9a33a1de",
   "metadata": {},
   "outputs": [],
   "source": []
  },
  {
   "cell_type": "code",
   "execution_count": 44,
   "id": "e42fcc13",
   "metadata": {},
   "outputs": [
    {
     "data": {
      "text/plain": [
       "'1N New Delhi . 2N Shimla . 2N Manali . 1N Chandigarh'"
      ]
     },
     "execution_count": 44,
     "metadata": {},
     "output_type": "execute_result"
    }
   ],
   "source": [
    "combined['Itinerary'].unique()[0]"
   ]
  },
  {
   "cell_type": "code",
   "execution_count": 45,
   "id": "4839929c",
   "metadata": {},
   "outputs": [
    {
     "data": {
      "text/plain": [
       "6"
      ]
     },
     "execution_count": 45,
     "metadata": {},
     "output_type": "execute_result"
    }
   ],
   "source": [
    "# Regular Expression\n",
    "\n",
    "# re.findall(\"\\d{1}\",combined['Itinerary'].unique()[0])\n",
    "# pd.to_numeric(re.findall(\"\\d{1}\",combined['Itinerary'].unique()[0]))\n",
    "np.sum(pd.to_numeric(re.findall(\"\\d{1}\",combined['Itinerary'].unique()[0])))"
   ]
  },
  {
   "cell_type": "code",
   "execution_count": 46,
   "id": "dc576429",
   "metadata": {},
   "outputs": [],
   "source": [
    "combined['Duration'] = combined.Itinerary.apply(lambda x:np.sum(pd.to_numeric(re.findall(\"\\d{1}\",x))))"
   ]
  },
  {
   "cell_type": "code",
   "execution_count": 47,
   "id": "6dc5466f",
   "metadata": {},
   "outputs": [
    {
     "data": {
      "text/plain": [
       "array(['Not Available',\n",
       "       'The Orchard Retreat & Spa:4.6|WelcomHotel Pine N Peak Pahalgam - Member ITC Hotel Group:4.1|The Orchard Retreat & Spa:4.6',\n",
       "       'The Ananta:4.4|juSTa Lake Nahargarh Palace:4', ...,\n",
       "       'Marari Beach - CGH Earth:4.6|Niraamaya Retreats Surya Samudra:4.5',\n",
       "       'The Oberoi Cecil:Five|Fernhill Resort:Three',\n",
       "       'Poppys Hotel:4.1|Hyatt Place Rameswaram:4.4|Hotel Temple Citi:4.2|Over The Hill-MMT Holidays Special:|Uday Backwater Resort-MMT Holidays Special:|Tea Village-MMT Holidays Special:'],\n",
       "      dtype=object)"
      ]
     },
     "execution_count": 47,
     "metadata": {},
     "output_type": "execute_result"
    }
   ],
   "source": [
    "combined['Hotel Details'].unique()"
   ]
  },
  {
   "cell_type": "code",
   "execution_count": 48,
   "id": "b5d0994c",
   "metadata": {},
   "outputs": [],
   "source": [
    "combined['Rating'] = combined['Hotel Details'].apply(lambda x:np.mean(pd.to_numeric(re.findall(\"\\d\\.\\d\",x))))"
   ]
  },
  {
   "cell_type": "code",
   "execution_count": 49,
   "id": "aa2c8f13",
   "metadata": {},
   "outputs": [
    {
     "data": {
      "text/plain": [
       "array(['Not Available',\n",
       "       'The Himalayan Village:Four|The Holiday Resorts, Cottages & Spa:Four',\n",
       "       'UDAY SAMUDRA LEISURE BEACH HOTEL & SPA-MMT Holidays Special:4|Hotel Sivamurugan:',\n",
       "       ..., 'Mayfair Hotel:Four|The Elgin Nor-Khill Hotel:Five',\n",
       "       'Tea Village-MMT Holidays Special:4|Crown Valley-MMT Holidays Special:|Oxygen Resorts Alleppey-MMT Holidays Special:|Kshetra Ayurveda & Yoga Retreat, Varkala:|Over The Hill-MMT Holidays Special:',\n",
       "       'The Oberoi Cecil:Five|Fernhill Resort:Three'], dtype=object)"
      ]
     },
     "execution_count": 49,
     "metadata": {},
     "output_type": "execute_result"
    }
   ],
   "source": [
    "combined.loc[combined['Rating'].isnull(),\"Hotel Details\"].unique()"
   ]
  },
  {
   "cell_type": "code",
   "execution_count": 50,
   "id": "67317f12",
   "metadata": {},
   "outputs": [],
   "source": [
    "combined['Rating'].fillna(combined['Rating'].mean(),inplace=True)"
   ]
  },
  {
   "cell_type": "code",
   "execution_count": 51,
   "id": "902447f1",
   "metadata": {},
   "outputs": [
    {
     "data": {
      "text/plain": [
       "Uniq Id                          0\n",
       "Package Name                     0\n",
       "Package Type                     0\n",
       "Destination                      0\n",
       "Itinerary                        0\n",
       "Places Covered                   0\n",
       "Travel Date                      0\n",
       "Hotel Details                    0\n",
       "Start City                       0\n",
       "Airline                          0\n",
       "Flight Stops                     0\n",
       "Meals                            0\n",
       "Sightseeing Places Covered       0\n",
       "Cancellation Rules               0\n",
       "Per Person Price              9000\n",
       "Count_Destination                0\n",
       "Count_Sightseeing                0\n",
       "Count_Airline                    0\n",
       "Year                             0\n",
       "Month                            0\n",
       "Day                              0\n",
       "Month_Cat                        0\n",
       "Day_Cat                          0\n",
       "Duration                         0\n",
       "Rating                           0\n",
       "dtype: int64"
      ]
     },
     "execution_count": 51,
     "metadata": {},
     "output_type": "execute_result"
    }
   ],
   "source": [
    "combined.isnull().sum()"
   ]
  },
  {
   "cell_type": "code",
   "execution_count": 52,
   "id": "3f57a11a",
   "metadata": {},
   "outputs": [
    {
     "data": {
      "text/html": [
       "<div>\n",
       "<style scoped>\n",
       "    .dataframe tbody tr th:only-of-type {\n",
       "        vertical-align: middle;\n",
       "    }\n",
       "\n",
       "    .dataframe tbody tr th {\n",
       "        vertical-align: top;\n",
       "    }\n",
       "\n",
       "    .dataframe thead th {\n",
       "        text-align: right;\n",
       "    }\n",
       "</style>\n",
       "<table border=\"1\" class=\"dataframe\">\n",
       "  <thead>\n",
       "    <tr style=\"text-align: right;\">\n",
       "      <th></th>\n",
       "      <th>Uniq Id</th>\n",
       "      <th>Package Name</th>\n",
       "      <th>Package Type</th>\n",
       "      <th>Destination</th>\n",
       "      <th>Itinerary</th>\n",
       "      <th>Places Covered</th>\n",
       "      <th>Travel Date</th>\n",
       "      <th>Hotel Details</th>\n",
       "      <th>Start City</th>\n",
       "      <th>Airline</th>\n",
       "      <th>Flight Stops</th>\n",
       "      <th>Meals</th>\n",
       "      <th>Sightseeing Places Covered</th>\n",
       "      <th>Cancellation Rules</th>\n",
       "      <th>Per Person Price</th>\n",
       "      <th>Count_Destination</th>\n",
       "      <th>Count_Sightseeing</th>\n",
       "      <th>Count_Airline</th>\n",
       "      <th>Year</th>\n",
       "      <th>Month</th>\n",
       "      <th>Day</th>\n",
       "      <th>Month_Cat</th>\n",
       "      <th>Day_Cat</th>\n",
       "      <th>Duration</th>\n",
       "      <th>Rating</th>\n",
       "    </tr>\n",
       "  </thead>\n",
       "  <tbody>\n",
       "    <tr>\n",
       "      <th>0</th>\n",
       "      <td>e788ab76d9d8cf1e6ed2f139645ca5d1</td>\n",
       "      <td>Best of Shimla and Manali Holiday from Delhi</td>\n",
       "      <td>Standard</td>\n",
       "      <td>New Delhi|Shimla|Manali|Chandigarh</td>\n",
       "      <td>1N New Delhi . 2N Shimla . 2N Manali . 1N Chan...</td>\n",
       "      <td>New Delhi|Shimla|Manali|Chandigarh</td>\n",
       "      <td>2021-07-30</td>\n",
       "      <td>Not Available</td>\n",
       "      <td>Mumbai</td>\n",
       "      <td>Not Available</td>\n",
       "      <td>2</td>\n",
       "      <td>3</td>\n",
       "      <td>Not Available</td>\n",
       "      <td>Not Available</td>\n",
       "      <td>11509.0</td>\n",
       "      <td>4</td>\n",
       "      <td>1</td>\n",
       "      <td>1</td>\n",
       "      <td>2021</td>\n",
       "      <td>7</td>\n",
       "      <td>30</td>\n",
       "      <td>High_Paying_Months</td>\n",
       "      <td>Lean_Days</td>\n",
       "      <td>6</td>\n",
       "      <td>4.106857</td>\n",
       "    </tr>\n",
       "    <tr>\n",
       "      <th>1</th>\n",
       "      <td>178f892630ce3e335a5a41d5d83937fd</td>\n",
       "      <td>Kashmir Valley vacation</td>\n",
       "      <td>Premium</td>\n",
       "      <td>Srinagar|Pahalgam|Srinagar</td>\n",
       "      <td>1N Srinagar . 2N Pahalgam . 1N Srinagar</td>\n",
       "      <td>Srinagar|Pahalgam|Srinagar</td>\n",
       "      <td>2021-12-08</td>\n",
       "      <td>The Orchard Retreat &amp; Spa:4.6|WelcomHotel Pine...</td>\n",
       "      <td>New Delhi</td>\n",
       "      <td>IndiGo|IndiGo</td>\n",
       "      <td>0</td>\n",
       "      <td>5</td>\n",
       "      <td>Dal Lake | Avantipura Ruins | Mughal Gardens ...</td>\n",
       "      <td>Cancellation any time after making the 1st pay...</td>\n",
       "      <td>22485.5</td>\n",
       "      <td>3</td>\n",
       "      <td>7</td>\n",
       "      <td>2</td>\n",
       "      <td>2021</td>\n",
       "      <td>12</td>\n",
       "      <td>8</td>\n",
       "      <td>Lean_Months</td>\n",
       "      <td>High_Paying_Days</td>\n",
       "      <td>4</td>\n",
       "      <td>4.433333</td>\n",
       "    </tr>\n",
       "    <tr>\n",
       "      <th>2</th>\n",
       "      <td>f060f2954840503cc2fdaf495357b7df</td>\n",
       "      <td>Might of Mewar- Udaipur and Chittorgarh</td>\n",
       "      <td>Luxury</td>\n",
       "      <td>Udaipur|Chittorgarh</td>\n",
       "      <td>2N Udaipur . 1N Chittorgarh</td>\n",
       "      <td>Udaipur|Chittorgarh</td>\n",
       "      <td>2021-04-26</td>\n",
       "      <td>The Ananta:4.4|juSTa Lake Nahargarh Palace:4</td>\n",
       "      <td>New Delhi</td>\n",
       "      <td>IndiGo</td>\n",
       "      <td>0</td>\n",
       "      <td>4</td>\n",
       "      <td>Lake Pichola | Jag Mandir Palace | Saheliyon ...</td>\n",
       "      <td>Cancellation any time after making the 1st pay...</td>\n",
       "      <td>12421.5</td>\n",
       "      <td>2</td>\n",
       "      <td>8</td>\n",
       "      <td>1</td>\n",
       "      <td>2021</td>\n",
       "      <td>4</td>\n",
       "      <td>26</td>\n",
       "      <td>High_Paying_Months</td>\n",
       "      <td>Lean_Days</td>\n",
       "      <td>3</td>\n",
       "      <td>4.400000</td>\n",
       "    </tr>\n",
       "    <tr>\n",
       "      <th>3</th>\n",
       "      <td>32a19a6c171e67448f2346da46c619dc</td>\n",
       "      <td>Colorful Kerala ( Romantic Getaway )</td>\n",
       "      <td>Premium</td>\n",
       "      <td>Munnar|Kumarakom|Allepey|Kovalam|Poovar</td>\n",
       "      <td>2N Munnar . 1N Kumarakom . 1N Allepey . 2N Kov...</td>\n",
       "      <td>Munnar|Kumarakom|Allepey|Kovalam and Poovar</td>\n",
       "      <td>2021-08-27</td>\n",
       "      <td>Elixir Hills Suites Resort &amp; Spa-MMT Holidays ...</td>\n",
       "      <td>New Delhi</td>\n",
       "      <td>IndiGo</td>\n",
       "      <td>0</td>\n",
       "      <td>5</td>\n",
       "      <td>Mattupetty Dam | Echo Point | Tata Tea Museum...</td>\n",
       "      <td>Cancellation any time after making the 1st pay...</td>\n",
       "      <td>35967.0</td>\n",
       "      <td>5</td>\n",
       "      <td>9</td>\n",
       "      <td>1</td>\n",
       "      <td>2021</td>\n",
       "      <td>8</td>\n",
       "      <td>27</td>\n",
       "      <td>Lean_Months</td>\n",
       "      <td>High_Paying_Days</td>\n",
       "      <td>6</td>\n",
       "      <td>4.500000</td>\n",
       "    </tr>\n",
       "    <tr>\n",
       "      <th>4</th>\n",
       "      <td>107b068aa0ca03bc6248966f594d105f</td>\n",
       "      <td>A Week In Bangkok &amp; Pattaya</td>\n",
       "      <td>Premium</td>\n",
       "      <td>Pattaya|Bangkok</td>\n",
       "      <td>4N Pattaya . 3N Bangkok</td>\n",
       "      <td>Pattaya|Bangkok</td>\n",
       "      <td>2021-12-12</td>\n",
       "      <td>Dusit Thani Pattaya - MMT Special:4.5|Amari Wa...</td>\n",
       "      <td>New Delhi</td>\n",
       "      <td>Spicejet|Go Air</td>\n",
       "      <td>0</td>\n",
       "      <td>5</td>\n",
       "      <td>Coral Island Tour with Indian Lunch, Join Spe...</td>\n",
       "      <td>Cancellation any time after making the 1st pay...</td>\n",
       "      <td>25584.0</td>\n",
       "      <td>2</td>\n",
       "      <td>2</td>\n",
       "      <td>2</td>\n",
       "      <td>2021</td>\n",
       "      <td>12</td>\n",
       "      <td>12</td>\n",
       "      <td>Lean_Months</td>\n",
       "      <td>Lean_Days</td>\n",
       "      <td>7</td>\n",
       "      <td>4.350000</td>\n",
       "    </tr>\n",
       "  </tbody>\n",
       "</table>\n",
       "</div>"
      ],
      "text/plain": [
       "                            Uniq Id  \\\n",
       "0  e788ab76d9d8cf1e6ed2f139645ca5d1   \n",
       "1  178f892630ce3e335a5a41d5d83937fd   \n",
       "2  f060f2954840503cc2fdaf495357b7df   \n",
       "3  32a19a6c171e67448f2346da46c619dc   \n",
       "4  107b068aa0ca03bc6248966f594d105f   \n",
       "\n",
       "                                   Package Name Package Type  \\\n",
       "0  Best of Shimla and Manali Holiday from Delhi     Standard   \n",
       "1                       Kashmir Valley vacation      Premium   \n",
       "2       Might of Mewar- Udaipur and Chittorgarh       Luxury   \n",
       "3          Colorful Kerala ( Romantic Getaway )      Premium   \n",
       "4                   A Week In Bangkok & Pattaya      Premium   \n",
       "\n",
       "                               Destination  \\\n",
       "0       New Delhi|Shimla|Manali|Chandigarh   \n",
       "1               Srinagar|Pahalgam|Srinagar   \n",
       "2                      Udaipur|Chittorgarh   \n",
       "3  Munnar|Kumarakom|Allepey|Kovalam|Poovar   \n",
       "4                          Pattaya|Bangkok   \n",
       "\n",
       "                                           Itinerary  \\\n",
       "0  1N New Delhi . 2N Shimla . 2N Manali . 1N Chan...   \n",
       "1            1N Srinagar . 2N Pahalgam . 1N Srinagar   \n",
       "2                        2N Udaipur . 1N Chittorgarh   \n",
       "3  2N Munnar . 1N Kumarakom . 1N Allepey . 2N Kov...   \n",
       "4                            4N Pattaya . 3N Bangkok   \n",
       "\n",
       "                                Places Covered Travel Date  \\\n",
       "0           New Delhi|Shimla|Manali|Chandigarh  2021-07-30   \n",
       "1                   Srinagar|Pahalgam|Srinagar  2021-12-08   \n",
       "2                          Udaipur|Chittorgarh  2021-04-26   \n",
       "3  Munnar|Kumarakom|Allepey|Kovalam and Poovar  2021-08-27   \n",
       "4                              Pattaya|Bangkok  2021-12-12   \n",
       "\n",
       "                                       Hotel Details Start City  \\\n",
       "0                                      Not Available     Mumbai   \n",
       "1  The Orchard Retreat & Spa:4.6|WelcomHotel Pine...  New Delhi   \n",
       "2       The Ananta:4.4|juSTa Lake Nahargarh Palace:4  New Delhi   \n",
       "3  Elixir Hills Suites Resort & Spa-MMT Holidays ...  New Delhi   \n",
       "4  Dusit Thani Pattaya - MMT Special:4.5|Amari Wa...  New Delhi   \n",
       "\n",
       "           Airline  Flight Stops  Meals  \\\n",
       "0    Not Available             2      3   \n",
       "1    IndiGo|IndiGo             0      5   \n",
       "2           IndiGo             0      4   \n",
       "3           IndiGo             0      5   \n",
       "4  Spicejet|Go Air             0      5   \n",
       "\n",
       "                          Sightseeing Places Covered  \\\n",
       "0                                      Not Available   \n",
       "1   Dal Lake | Avantipura Ruins | Mughal Gardens ...   \n",
       "2   Lake Pichola | Jag Mandir Palace | Saheliyon ...   \n",
       "3   Mattupetty Dam | Echo Point | Tata Tea Museum...   \n",
       "4   Coral Island Tour with Indian Lunch, Join Spe...   \n",
       "\n",
       "                                  Cancellation Rules  Per Person Price  \\\n",
       "0                                      Not Available           11509.0   \n",
       "1  Cancellation any time after making the 1st pay...           22485.5   \n",
       "2  Cancellation any time after making the 1st pay...           12421.5   \n",
       "3  Cancellation any time after making the 1st pay...           35967.0   \n",
       "4  Cancellation any time after making the 1st pay...           25584.0   \n",
       "\n",
       "   Count_Destination  Count_Sightseeing  Count_Airline  Year  Month  Day  \\\n",
       "0                  4                  1              1  2021      7   30   \n",
       "1                  3                  7              2  2021     12    8   \n",
       "2                  2                  8              1  2021      4   26   \n",
       "3                  5                  9              1  2021      8   27   \n",
       "4                  2                  2              2  2021     12   12   \n",
       "\n",
       "            Month_Cat           Day_Cat  Duration    Rating  \n",
       "0  High_Paying_Months         Lean_Days         6  4.106857  \n",
       "1         Lean_Months  High_Paying_Days         4  4.433333  \n",
       "2  High_Paying_Months         Lean_Days         3  4.400000  \n",
       "3         Lean_Months  High_Paying_Days         6  4.500000  \n",
       "4         Lean_Months         Lean_Days         7  4.350000  "
      ]
     },
     "execution_count": 52,
     "metadata": {},
     "output_type": "execute_result"
    }
   ],
   "source": [
    "combined.head()"
   ]
  },
  {
   "cell_type": "code",
   "execution_count": 53,
   "id": "ad4a078a",
   "metadata": {},
   "outputs": [],
   "source": [
    "subset = combined.drop(['Uniq Id','Destination','Itinerary','Places Covered','Travel Date','Hotel Details','Airline','Sightseeing Places Covered','Cancellation Rules'],axis=1)"
   ]
  },
  {
   "cell_type": "code",
   "execution_count": 54,
   "id": "22bbcd72",
   "metadata": {},
   "outputs": [
    {
     "data": {
      "text/html": [
       "<div>\n",
       "<style scoped>\n",
       "    .dataframe tbody tr th:only-of-type {\n",
       "        vertical-align: middle;\n",
       "    }\n",
       "\n",
       "    .dataframe tbody tr th {\n",
       "        vertical-align: top;\n",
       "    }\n",
       "\n",
       "    .dataframe thead th {\n",
       "        text-align: right;\n",
       "    }\n",
       "</style>\n",
       "<table border=\"1\" class=\"dataframe\">\n",
       "  <thead>\n",
       "    <tr style=\"text-align: right;\">\n",
       "      <th></th>\n",
       "      <th>Package Name</th>\n",
       "      <th>Package Type</th>\n",
       "      <th>Start City</th>\n",
       "      <th>Flight Stops</th>\n",
       "      <th>Meals</th>\n",
       "      <th>Per Person Price</th>\n",
       "      <th>Count_Destination</th>\n",
       "      <th>Count_Sightseeing</th>\n",
       "      <th>Count_Airline</th>\n",
       "      <th>Year</th>\n",
       "      <th>Month</th>\n",
       "      <th>Day</th>\n",
       "      <th>Month_Cat</th>\n",
       "      <th>Day_Cat</th>\n",
       "      <th>Duration</th>\n",
       "      <th>Rating</th>\n",
       "    </tr>\n",
       "  </thead>\n",
       "  <tbody>\n",
       "    <tr>\n",
       "      <th>0</th>\n",
       "      <td>Best of Shimla and Manali Holiday from Delhi</td>\n",
       "      <td>Standard</td>\n",
       "      <td>Mumbai</td>\n",
       "      <td>2</td>\n",
       "      <td>3</td>\n",
       "      <td>11509.0</td>\n",
       "      <td>4</td>\n",
       "      <td>1</td>\n",
       "      <td>1</td>\n",
       "      <td>2021</td>\n",
       "      <td>7</td>\n",
       "      <td>30</td>\n",
       "      <td>High_Paying_Months</td>\n",
       "      <td>Lean_Days</td>\n",
       "      <td>6</td>\n",
       "      <td>4.106857</td>\n",
       "    </tr>\n",
       "    <tr>\n",
       "      <th>1</th>\n",
       "      <td>Kashmir Valley vacation</td>\n",
       "      <td>Premium</td>\n",
       "      <td>New Delhi</td>\n",
       "      <td>0</td>\n",
       "      <td>5</td>\n",
       "      <td>22485.5</td>\n",
       "      <td>3</td>\n",
       "      <td>7</td>\n",
       "      <td>2</td>\n",
       "      <td>2021</td>\n",
       "      <td>12</td>\n",
       "      <td>8</td>\n",
       "      <td>Lean_Months</td>\n",
       "      <td>High_Paying_Days</td>\n",
       "      <td>4</td>\n",
       "      <td>4.433333</td>\n",
       "    </tr>\n",
       "    <tr>\n",
       "      <th>2</th>\n",
       "      <td>Might of Mewar- Udaipur and Chittorgarh</td>\n",
       "      <td>Luxury</td>\n",
       "      <td>New Delhi</td>\n",
       "      <td>0</td>\n",
       "      <td>4</td>\n",
       "      <td>12421.5</td>\n",
       "      <td>2</td>\n",
       "      <td>8</td>\n",
       "      <td>1</td>\n",
       "      <td>2021</td>\n",
       "      <td>4</td>\n",
       "      <td>26</td>\n",
       "      <td>High_Paying_Months</td>\n",
       "      <td>Lean_Days</td>\n",
       "      <td>3</td>\n",
       "      <td>4.400000</td>\n",
       "    </tr>\n",
       "    <tr>\n",
       "      <th>3</th>\n",
       "      <td>Colorful Kerala ( Romantic Getaway )</td>\n",
       "      <td>Premium</td>\n",
       "      <td>New Delhi</td>\n",
       "      <td>0</td>\n",
       "      <td>5</td>\n",
       "      <td>35967.0</td>\n",
       "      <td>5</td>\n",
       "      <td>9</td>\n",
       "      <td>1</td>\n",
       "      <td>2021</td>\n",
       "      <td>8</td>\n",
       "      <td>27</td>\n",
       "      <td>Lean_Months</td>\n",
       "      <td>High_Paying_Days</td>\n",
       "      <td>6</td>\n",
       "      <td>4.500000</td>\n",
       "    </tr>\n",
       "    <tr>\n",
       "      <th>4</th>\n",
       "      <td>A Week In Bangkok &amp; Pattaya</td>\n",
       "      <td>Premium</td>\n",
       "      <td>New Delhi</td>\n",
       "      <td>0</td>\n",
       "      <td>5</td>\n",
       "      <td>25584.0</td>\n",
       "      <td>2</td>\n",
       "      <td>2</td>\n",
       "      <td>2</td>\n",
       "      <td>2021</td>\n",
       "      <td>12</td>\n",
       "      <td>12</td>\n",
       "      <td>Lean_Months</td>\n",
       "      <td>Lean_Days</td>\n",
       "      <td>7</td>\n",
       "      <td>4.350000</td>\n",
       "    </tr>\n",
       "  </tbody>\n",
       "</table>\n",
       "</div>"
      ],
      "text/plain": [
       "                                   Package Name Package Type Start City  \\\n",
       "0  Best of Shimla and Manali Holiday from Delhi     Standard     Mumbai   \n",
       "1                       Kashmir Valley vacation      Premium  New Delhi   \n",
       "2       Might of Mewar- Udaipur and Chittorgarh       Luxury  New Delhi   \n",
       "3          Colorful Kerala ( Romantic Getaway )      Premium  New Delhi   \n",
       "4                   A Week In Bangkok & Pattaya      Premium  New Delhi   \n",
       "\n",
       "   Flight Stops  Meals  Per Person Price  Count_Destination  \\\n",
       "0             2      3           11509.0                  4   \n",
       "1             0      5           22485.5                  3   \n",
       "2             0      4           12421.5                  2   \n",
       "3             0      5           35967.0                  5   \n",
       "4             0      5           25584.0                  2   \n",
       "\n",
       "   Count_Sightseeing  Count_Airline  Year  Month  Day           Month_Cat  \\\n",
       "0                  1              1  2021      7   30  High_Paying_Months   \n",
       "1                  7              2  2021     12    8         Lean_Months   \n",
       "2                  8              1  2021      4   26  High_Paying_Months   \n",
       "3                  9              1  2021      8   27         Lean_Months   \n",
       "4                  2              2  2021     12   12         Lean_Months   \n",
       "\n",
       "            Day_Cat  Duration    Rating  \n",
       "0         Lean_Days         6  4.106857  \n",
       "1  High_Paying_Days         4  4.433333  \n",
       "2         Lean_Days         3  4.400000  \n",
       "3  High_Paying_Days         6  4.500000  \n",
       "4         Lean_Days         7  4.350000  "
      ]
     },
     "execution_count": 54,
     "metadata": {},
     "output_type": "execute_result"
    }
   ],
   "source": [
    "subset.head()"
   ]
  },
  {
   "cell_type": "code",
   "execution_count": 55,
   "id": "29992303",
   "metadata": {},
   "outputs": [
    {
     "data": {
      "text/plain": [
       "array(['Standard', 'Premium', 'Luxury', 'Deluxe', 'Budget'], dtype=object)"
      ]
     },
     "execution_count": 55,
     "metadata": {},
     "output_type": "execute_result"
    }
   ],
   "source": [
    "# Package\n",
    "\n",
    "subset['Package Type'].unique()"
   ]
  },
  {
   "cell_type": "code",
   "execution_count": 56,
   "id": "78a2b192",
   "metadata": {},
   "outputs": [
    {
     "data": {
      "image/png": "[encoded data removed]",
      "text/plain": [
       "<Figure size 640x480 with 1 Axes>"
      ]
     },
     "metadata": {},
     "output_type": "display_data"
    }
   ],
   "source": [
    "sns.boxplot(x='Package Type',y = 'Per Person Price',data = subset)\n",
    "plt.show()"
   ]
  },
  {
   "cell_type": "code",
   "execution_count": 57,
   "id": "14e6ae36",
   "metadata": {},
   "outputs": [
    {
     "data": {
      "text/html": [
       "<div>\n",
       "<style scoped>\n",
       "    .dataframe tbody tr th:only-of-type {\n",
       "        vertical-align: middle;\n",
       "    }\n",
       "\n",
       "    .dataframe tbody tr th {\n",
       "        vertical-align: top;\n",
       "    }\n",
       "\n",
       "    .dataframe thead th {\n",
       "        text-align: right;\n",
       "    }\n",
       "</style>\n",
       "<table border=\"1\" class=\"dataframe\">\n",
       "  <thead>\n",
       "    <tr style=\"text-align: right;\">\n",
       "      <th></th>\n",
       "      <th>count</th>\n",
       "      <th>mean</th>\n",
       "      <th>std</th>\n",
       "      <th>min</th>\n",
       "      <th>25%</th>\n",
       "      <th>50%</th>\n",
       "      <th>75%</th>\n",
       "      <th>max</th>\n",
       "    </tr>\n",
       "    <tr>\n",
       "      <th>Package Type</th>\n",
       "      <th></th>\n",
       "      <th></th>\n",
       "      <th></th>\n",
       "      <th></th>\n",
       "      <th></th>\n",
       "      <th></th>\n",
       "      <th></th>\n",
       "      <th></th>\n",
       "    </tr>\n",
       "  </thead>\n",
       "  <tbody>\n",
       "    <tr>\n",
       "      <th>Budget</th>\n",
       "      <td>466.0</td>\n",
       "      <td>14151.447425</td>\n",
       "      <td>8236.467588</td>\n",
       "      <td>1757.0</td>\n",
       "      <td>8901.250</td>\n",
       "      <td>13114.25</td>\n",
       "      <td>17927.00</td>\n",
       "      <td>64008.5</td>\n",
       "    </tr>\n",
       "    <tr>\n",
       "      <th>Deluxe</th>\n",
       "      <td>6006.0</td>\n",
       "      <td>18409.508825</td>\n",
       "      <td>10228.326587</td>\n",
       "      <td>1198.0</td>\n",
       "      <td>12119.000</td>\n",
       "      <td>16426.75</td>\n",
       "      <td>22774.25</td>\n",
       "      <td>171062.5</td>\n",
       "    </tr>\n",
       "    <tr>\n",
       "      <th>Luxury</th>\n",
       "      <td>3278.0</td>\n",
       "      <td>23679.556437</td>\n",
       "      <td>11958.923869</td>\n",
       "      <td>2963.0</td>\n",
       "      <td>15471.625</td>\n",
       "      <td>22222.50</td>\n",
       "      <td>29170.75</td>\n",
       "      <td>107850.0</td>\n",
       "    </tr>\n",
       "    <tr>\n",
       "      <th>Premium</th>\n",
       "      <td>5581.0</td>\n",
       "      <td>23965.407006</td>\n",
       "      <td>13272.618593</td>\n",
       "      <td>2967.0</td>\n",
       "      <td>15232.000</td>\n",
       "      <td>21767.50</td>\n",
       "      <td>29188.00</td>\n",
       "      <td>170763.0</td>\n",
       "    </tr>\n",
       "    <tr>\n",
       "      <th>Standard</th>\n",
       "      <td>5669.0</td>\n",
       "      <td>16354.089081</td>\n",
       "      <td>9363.498521</td>\n",
       "      <td>791.0</td>\n",
       "      <td>10563.500</td>\n",
       "      <td>14729.50</td>\n",
       "      <td>19972.00</td>\n",
       "      <td>153795.0</td>\n",
       "    </tr>\n",
       "  </tbody>\n",
       "</table>\n",
       "</div>"
      ],
      "text/plain": [
       "               count          mean           std     min        25%       50%  \\\n",
       "Package Type                                                                    \n",
       "Budget         466.0  14151.447425   8236.467588  1757.0   8901.250  13114.25   \n",
       "Deluxe        6006.0  18409.508825  10228.326587  1198.0  12119.000  16426.75   \n",
       "Luxury        3278.0  23679.556437  11958.923869  2963.0  15471.625  22222.50   \n",
       "Premium       5581.0  23965.407006  13272.618593  2967.0  15232.000  21767.50   \n",
       "Standard      5669.0  16354.089081   9363.498521   791.0  10563.500  14729.50   \n",
       "\n",
       "                   75%       max  \n",
       "Package Type                      \n",
       "Budget        17927.00   64008.5  \n",
       "Deluxe        22774.25  171062.5  \n",
       "Luxury        29170.75  107850.0  \n",
       "Premium       29188.00  170763.0  \n",
       "Standard      19972.00  153795.0  "
      ]
     },
     "execution_count": 57,
     "metadata": {},
     "output_type": "execute_result"
    }
   ],
   "source": [
    "# Encoding on Package .....\n",
    "\n",
    "combined.groupby('Package Type')['Per Person Price'].describe()"
   ]
  },
  {
   "cell_type": "code",
   "execution_count": 58,
   "id": "f5264ca2",
   "metadata": {},
   "outputs": [],
   "source": [
    "mapped = {'Deluxe' : 5, \"Premium\": 4, \"Standard\" : 3, \"Luxury\" : 2 , \"Budget\" : 1}\n",
    "subset['Package Type'] = subset['Package Type'].map(mapped)"
   ]
  },
  {
   "cell_type": "code",
   "execution_count": 59,
   "id": "f01a1b71",
   "metadata": {},
   "outputs": [
    {
     "data": {
      "text/html": [
       "<div>\n",
       "<style scoped>\n",
       "    .dataframe tbody tr th:only-of-type {\n",
       "        vertical-align: middle;\n",
       "    }\n",
       "\n",
       "    .dataframe tbody tr th {\n",
       "        vertical-align: top;\n",
       "    }\n",
       "\n",
       "    .dataframe thead th {\n",
       "        text-align: right;\n",
       "    }\n",
       "</style>\n",
       "<table border=\"1\" class=\"dataframe\">\n",
       "  <thead>\n",
       "    <tr style=\"text-align: right;\">\n",
       "      <th></th>\n",
       "      <th>count</th>\n",
       "      <th>mean</th>\n",
       "      <th>std</th>\n",
       "      <th>min</th>\n",
       "      <th>25%</th>\n",
       "      <th>50%</th>\n",
       "      <th>75%</th>\n",
       "      <th>max</th>\n",
       "    </tr>\n",
       "    <tr>\n",
       "      <th>Package Type</th>\n",
       "      <th></th>\n",
       "      <th></th>\n",
       "      <th></th>\n",
       "      <th></th>\n",
       "      <th></th>\n",
       "      <th></th>\n",
       "      <th></th>\n",
       "      <th></th>\n",
       "    </tr>\n",
       "  </thead>\n",
       "  <tbody>\n",
       "    <tr>\n",
       "      <th>1</th>\n",
       "      <td>682.0</td>\n",
       "      <td>3.478006</td>\n",
       "      <td>1.272186</td>\n",
       "      <td>1.0</td>\n",
       "      <td>3.0</td>\n",
       "      <td>3.0</td>\n",
       "      <td>4.0</td>\n",
       "      <td>7.0</td>\n",
       "    </tr>\n",
       "    <tr>\n",
       "      <th>2</th>\n",
       "      <td>4688.0</td>\n",
       "      <td>4.663183</td>\n",
       "      <td>1.792593</td>\n",
       "      <td>1.0</td>\n",
       "      <td>3.0</td>\n",
       "      <td>5.0</td>\n",
       "      <td>6.0</td>\n",
       "      <td>12.0</td>\n",
       "    </tr>\n",
       "    <tr>\n",
       "      <th>3</th>\n",
       "      <td>8171.0</td>\n",
       "      <td>4.759148</td>\n",
       "      <td>1.806489</td>\n",
       "      <td>1.0</td>\n",
       "      <td>3.0</td>\n",
       "      <td>5.0</td>\n",
       "      <td>6.0</td>\n",
       "      <td>14.0</td>\n",
       "    </tr>\n",
       "    <tr>\n",
       "      <th>4</th>\n",
       "      <td>7960.0</td>\n",
       "      <td>4.765829</td>\n",
       "      <td>1.821384</td>\n",
       "      <td>1.0</td>\n",
       "      <td>3.0</td>\n",
       "      <td>5.0</td>\n",
       "      <td>6.0</td>\n",
       "      <td>14.0</td>\n",
       "    </tr>\n",
       "    <tr>\n",
       "      <th>5</th>\n",
       "      <td>8499.0</td>\n",
       "      <td>4.777974</td>\n",
       "      <td>1.749896</td>\n",
       "      <td>1.0</td>\n",
       "      <td>3.0</td>\n",
       "      <td>5.0</td>\n",
       "      <td>6.0</td>\n",
       "      <td>12.0</td>\n",
       "    </tr>\n",
       "  </tbody>\n",
       "</table>\n",
       "</div>"
      ],
      "text/plain": [
       "               count      mean       std  min  25%  50%  75%   max\n",
       "Package Type                                                      \n",
       "1              682.0  3.478006  1.272186  1.0  3.0  3.0  4.0   7.0\n",
       "2             4688.0  4.663183  1.792593  1.0  3.0  5.0  6.0  12.0\n",
       "3             8171.0  4.759148  1.806489  1.0  3.0  5.0  6.0  14.0\n",
       "4             7960.0  4.765829  1.821384  1.0  3.0  5.0  6.0  14.0\n",
       "5             8499.0  4.777974  1.749896  1.0  3.0  5.0  6.0  12.0"
      ]
     },
     "execution_count": 59,
     "metadata": {},
     "output_type": "execute_result"
    }
   ],
   "source": [
    "# Package v/s Holiday (Duration)\n",
    "\n",
    "subset.groupby('Package Type')['Duration'].describe()"
   ]
  },
  {
   "cell_type": "code",
   "execution_count": 60,
   "id": "23988ff6",
   "metadata": {},
   "outputs": [],
   "source": [
    "subset['Count_Pkg_Holidays'] = subset.groupby(\"Package Type\")['Duration'].transform('count')"
   ]
  },
  {
   "cell_type": "code",
   "execution_count": 61,
   "id": "b8f60d8d",
   "metadata": {},
   "outputs": [
    {
     "data": {
      "text/html": [
       "<div>\n",
       "<style scoped>\n",
       "    .dataframe tbody tr th:only-of-type {\n",
       "        vertical-align: middle;\n",
       "    }\n",
       "\n",
       "    .dataframe tbody tr th {\n",
       "        vertical-align: top;\n",
       "    }\n",
       "\n",
       "    .dataframe thead th {\n",
       "        text-align: right;\n",
       "    }\n",
       "</style>\n",
       "<table border=\"1\" class=\"dataframe\">\n",
       "  <thead>\n",
       "    <tr style=\"text-align: right;\">\n",
       "      <th></th>\n",
       "      <th>count</th>\n",
       "      <th>mean</th>\n",
       "      <th>std</th>\n",
       "      <th>min</th>\n",
       "      <th>25%</th>\n",
       "      <th>50%</th>\n",
       "      <th>75%</th>\n",
       "      <th>max</th>\n",
       "    </tr>\n",
       "    <tr>\n",
       "      <th>Package Name</th>\n",
       "      <th></th>\n",
       "      <th></th>\n",
       "      <th></th>\n",
       "      <th></th>\n",
       "      <th></th>\n",
       "      <th></th>\n",
       "      <th></th>\n",
       "      <th></th>\n",
       "    </tr>\n",
       "  </thead>\n",
       "  <tbody>\n",
       "    <tr>\n",
       "      <th>02 Night Singapore and 02 Night Genting Dream Cruise</th>\n",
       "      <td>1.0</td>\n",
       "      <td>4.0</td>\n",
       "      <td>NaN</td>\n",
       "      <td>4.0</td>\n",
       "      <td>4.0</td>\n",
       "      <td>4.0</td>\n",
       "      <td>4.0</td>\n",
       "      <td>4.0</td>\n",
       "    </tr>\n",
       "    <tr>\n",
       "      <th>2 Nights Dubai and 2 Nights Sharjah Holiday</th>\n",
       "      <td>16.0</td>\n",
       "      <td>4.0</td>\n",
       "      <td>0.0</td>\n",
       "      <td>4.0</td>\n",
       "      <td>4.0</td>\n",
       "      <td>4.0</td>\n",
       "      <td>4.0</td>\n",
       "      <td>4.0</td>\n",
       "    </tr>\n",
       "    <tr>\n",
       "      <th>2 Nights Moscow &amp; 2 Nights Saint Petersburg</th>\n",
       "      <td>4.0</td>\n",
       "      <td>4.0</td>\n",
       "      <td>0.0</td>\n",
       "      <td>4.0</td>\n",
       "      <td>4.0</td>\n",
       "      <td>4.0</td>\n",
       "      <td>4.0</td>\n",
       "      <td>4.0</td>\n",
       "    </tr>\n",
       "    <tr>\n",
       "      <th>2 Nights each in Jodhpur &amp; Jaisalmer</th>\n",
       "      <td>14.0</td>\n",
       "      <td>4.0</td>\n",
       "      <td>0.0</td>\n",
       "      <td>4.0</td>\n",
       "      <td>4.0</td>\n",
       "      <td>4.0</td>\n",
       "      <td>4.0</td>\n",
       "      <td>4.0</td>\n",
       "    </tr>\n",
       "    <tr>\n",
       "      <th>2 Nights in Munnar with Thekkady and Cochin</th>\n",
       "      <td>15.0</td>\n",
       "      <td>4.0</td>\n",
       "      <td>0.0</td>\n",
       "      <td>4.0</td>\n",
       "      <td>4.0</td>\n",
       "      <td>4.0</td>\n",
       "      <td>4.0</td>\n",
       "      <td>4.0</td>\n",
       "    </tr>\n",
       "    <tr>\n",
       "      <th>...</th>\n",
       "      <td>...</td>\n",
       "      <td>...</td>\n",
       "      <td>...</td>\n",
       "      <td>...</td>\n",
       "      <td>...</td>\n",
       "      <td>...</td>\n",
       "      <td>...</td>\n",
       "      <td>...</td>\n",
       "    </tr>\n",
       "    <tr>\n",
       "      <th>Young and Free - Party Trip to Goa from Mumbai (By Bus)</th>\n",
       "      <td>3.0</td>\n",
       "      <td>3.0</td>\n",
       "      <td>0.0</td>\n",
       "      <td>3.0</td>\n",
       "      <td>3.0</td>\n",
       "      <td>3.0</td>\n",
       "      <td>3.0</td>\n",
       "      <td>3.0</td>\n",
       "    </tr>\n",
       "    <tr>\n",
       "      <th>Young and Free - Party Trip to Goa from Pune (By Bus)</th>\n",
       "      <td>5.0</td>\n",
       "      <td>3.0</td>\n",
       "      <td>0.0</td>\n",
       "      <td>3.0</td>\n",
       "      <td>3.0</td>\n",
       "      <td>3.0</td>\n",
       "      <td>3.0</td>\n",
       "      <td>3.0</td>\n",
       "    </tr>\n",
       "    <tr>\n",
       "      <th>Young and Free - Udaipur Weekend from Ahmedabad (By Bus)</th>\n",
       "      <td>2.0</td>\n",
       "      <td>2.0</td>\n",
       "      <td>0.0</td>\n",
       "      <td>2.0</td>\n",
       "      <td>2.0</td>\n",
       "      <td>2.0</td>\n",
       "      <td>2.0</td>\n",
       "      <td>2.0</td>\n",
       "    </tr>\n",
       "    <tr>\n",
       "      <th>Young and Free - Wayanad</th>\n",
       "      <td>4.0</td>\n",
       "      <td>2.0</td>\n",
       "      <td>0.0</td>\n",
       "      <td>2.0</td>\n",
       "      <td>2.0</td>\n",
       "      <td>2.0</td>\n",
       "      <td>2.0</td>\n",
       "      <td>2.0</td>\n",
       "    </tr>\n",
       "    <tr>\n",
       "      <th>test pacakge</th>\n",
       "      <td>4.0</td>\n",
       "      <td>2.0</td>\n",
       "      <td>0.0</td>\n",
       "      <td>2.0</td>\n",
       "      <td>2.0</td>\n",
       "      <td>2.0</td>\n",
       "      <td>2.0</td>\n",
       "      <td>2.0</td>\n",
       "    </tr>\n",
       "  </tbody>\n",
       "</table>\n",
       "<p>2236 rows × 8 columns</p>\n",
       "</div>"
      ],
      "text/plain": [
       "                                                    count  mean  std  min  \\\n",
       "Package Name                                                                \n",
       "02 Night Singapore and 02 Night Genting Dream C...    1.0   4.0  NaN  4.0   \n",
       "2 Nights Dubai and 2 Nights Sharjah Holiday          16.0   4.0  0.0  4.0   \n",
       "2 Nights Moscow & 2 Nights Saint Petersburg           4.0   4.0  0.0  4.0   \n",
       "2 Nights each in Jodhpur & Jaisalmer                 14.0   4.0  0.0  4.0   \n",
       "2 Nights in Munnar with Thekkady and Cochin          15.0   4.0  0.0  4.0   \n",
       "...                                                   ...   ...  ...  ...   \n",
       "Young and Free - Party Trip to Goa from Mumbai ...    3.0   3.0  0.0  3.0   \n",
       "Young and Free - Party Trip to Goa from Pune (B...    5.0   3.0  0.0  3.0   \n",
       "Young and Free - Udaipur Weekend from Ahmedabad...    2.0   2.0  0.0  2.0   \n",
       "Young and Free - Wayanad                              4.0   2.0  0.0  2.0   \n",
       "test pacakge                                          4.0   2.0  0.0  2.0   \n",
       "\n",
       "                                                    25%  50%  75%  max  \n",
       "Package Name                                                            \n",
       "02 Night Singapore and 02 Night Genting Dream C...  4.0  4.0  4.0  4.0  \n",
       "2 Nights Dubai and 2 Nights Sharjah Holiday         4.0  4.0  4.0  4.0  \n",
       "2 Nights Moscow & 2 Nights Saint Petersburg         4.0  4.0  4.0  4.0  \n",
       "2 Nights each in Jodhpur & Jaisalmer                4.0  4.0  4.0  4.0  \n",
       "2 Nights in Munnar with Thekkady and Cochin         4.0  4.0  4.0  4.0  \n",
       "...                                                 ...  ...  ...  ...  \n",
       "Young and Free - Party Trip to Goa from Mumbai ...  3.0  3.0  3.0  3.0  \n",
       "Young and Free - Party Trip to Goa from Pune (B...  3.0  3.0  3.0  3.0  \n",
       "Young and Free - Udaipur Weekend from Ahmedabad...  2.0  2.0  2.0  2.0  \n",
       "Young and Free - Wayanad                            2.0  2.0  2.0  2.0  \n",
       "test pacakge                                        2.0  2.0  2.0  2.0  \n",
       "\n",
       "[2236 rows x 8 columns]"
      ]
     },
     "execution_count": 61,
     "metadata": {},
     "output_type": "execute_result"
    }
   ],
   "source": [
    "# Package Name .....\n",
    "\n",
    "subset.groupby('Package Name')['Duration'].describe()"
   ]
  },
  {
   "cell_type": "code",
   "execution_count": 62,
   "id": "39c33c16",
   "metadata": {},
   "outputs": [],
   "source": [
    "subset['Count_Pkg_Name_Holidays'] = subset.groupby(\"Package Name\")['Duration'].transform('count')"
   ]
  },
  {
   "cell_type": "code",
   "execution_count": 63,
   "id": "8fbc454f",
   "metadata": {},
   "outputs": [
    {
     "data": {
      "text/plain": [
       "Index(['Package Name', 'Package Type', 'Start City', 'Flight Stops', 'Meals',\n",
       "       'Per Person Price', 'Count_Destination', 'Count_Sightseeing',\n",
       "       'Count_Airline', 'Year', 'Month', 'Day', 'Month_Cat', 'Day_Cat',\n",
       "       'Duration', 'Rating', 'Count_Pkg_Holidays', 'Count_Pkg_Name_Holidays'],\n",
       "      dtype='object')"
      ]
     },
     "execution_count": 63,
     "metadata": {},
     "output_type": "execute_result"
    }
   ],
   "source": [
    "subset.columns"
   ]
  },
  {
   "cell_type": "code",
   "execution_count": 65,
   "id": "42cf3ec4",
   "metadata": {},
   "outputs": [],
   "source": [
    "# dropping additional columns from subset\n",
    "\n",
    "# new = subset.drop(['Package Name','Start City','Month', 'Date'],axis=1)\n",
    "new = subset.drop(['Package Name','Start City','Month'],axis=1)"
   ]
  },
  {
   "cell_type": "code",
   "execution_count": 66,
   "id": "d2e5223e",
   "metadata": {},
   "outputs": [
    {
     "data": {
      "text/plain": [
       "((21000, 15), (9000, 15), (21000, 15), (9000, 14))"
      ]
     },
     "execution_count": 66,
     "metadata": {},
     "output_type": "execute_result"
    }
   ],
   "source": [
    "# Lets split data in train and test\n",
    "\n",
    "newtrain = new.loc[0:train.shape[0]-1, ]\n",
    "newtest = new.loc[train.shape[0]:, ]\n",
    "\n",
    "newtrain.shape,newtest.shape,train.shape,test.shape"
   ]
  },
  {
   "cell_type": "code",
   "execution_count": 67,
   "id": "fdbb4a5c",
   "metadata": {},
   "outputs": [],
   "source": [
    "# Dropping the target variable from the testsets\n",
    "\n",
    "newtest.drop('Per Person Price',axis=1,inplace=True)"
   ]
  },
  {
   "cell_type": "code",
   "execution_count": 68,
   "id": "f4000aa3",
   "metadata": {},
   "outputs": [
    {
     "data": {
      "text/plain": [
       "((21000, 15), (9000, 14), (21000, 15), (9000, 14))"
      ]
     },
     "execution_count": 68,
     "metadata": {},
     "output_type": "execute_result"
    }
   ],
   "source": [
    "newtrain.shape,newtest.shape,train.shape,test.shape"
   ]
  },
  {
   "cell_type": "code",
   "execution_count": 69,
   "id": "c35234fe",
   "metadata": {},
   "outputs": [],
   "source": [
    "# Encoding the Categrical Variables\n",
    "\n",
    "dummytrain = pd.get_dummies(newtrain,drop_first=True,dtype='int')\n",
    "dummytest = pd.get_dummies(newtest,drop_first=True,dtype='int')"
   ]
  },
  {
   "cell_type": "markdown",
   "id": "1add69f3",
   "metadata": {},
   "source": [
    "## Modeling"
   ]
  },
  {
   "cell_type": "code",
   "execution_count": 70,
   "id": "b286d180",
   "metadata": {},
   "outputs": [],
   "source": [
    "from sklearn.ensemble import RandomForestRegressor,GradientBoostingRegressor\n",
    "\n",
    "X = dummytrain.drop('Per Person Price',axis=1)\n",
    "Y = dummytrain['Per Person Price']\n",
    "\n",
    "rf = RandomForestRegressor()\n",
    "pred_rf = rf.fit(X,Y).predict(dummytest)"
   ]
  },
  {
   "cell_type": "code",
   "execution_count": 71,
   "id": "d6961119",
   "metadata": {},
   "outputs": [],
   "source": [
    "gbm = GradientBoostingRegressor()\n",
    "gbm_pred = gbm.fit(X,Y).predict(dummytest)"
   ]
  },
  {
   "cell_type": "markdown",
   "id": "c135e322",
   "metadata": {},
   "source": [
    "## Submission File "
   ]
  },
  {
   "cell_type": "code",
   "execution_count": 72,
   "id": "578759d5",
   "metadata": {},
   "outputs": [],
   "source": [
    "rf_model = pd.DataFrame({'Per Person Price': pred_rf})\n",
    "rf_model.to_csv('pred_rf.csv',index=False)"
   ]
  },
  {
   "cell_type": "code",
   "execution_count": 73,
   "id": "189c6bd0",
   "metadata": {},
   "outputs": [],
   "source": [
    "gbm_model = pd.DataFrame({'Per Person Price': gbm_pred})\n",
    "gbm_model.to_csv('pred_gbm.csv',index=False)"
   ]
  },
  {
   "cell_type": "code",
   "execution_count": null,
   "id": "d10f74bc",
   "metadata": {},
   "outputs": [],
   "source": []
  },
  {
   "cell_type": "code",
   "execution_count": null,
   "id": "3ab17703",
   "metadata": {},
   "outputs": [],
   "source": []
  },
  {
   "cell_type": "code",
   "execution_count": null,
   "id": "34be9eac",
   "metadata": {},
   "outputs": [],
   "source": []
  }
 ],
 "metadata": {
  "kernelspec": {
   "display_name": "Python 3 (ipykernel)",
   "language": "python",
   "name": "python3"
  },
  "language_info": {
   "codemirror_mode": {
    "name": "ipython",
    "version": 3
   },
   "file_extension": ".py",
   "mimetype": "text/x-python",
   "name": "python",
   "nbconvert_exporter": "python",
   "pygments_lexer": "ipython3",
   "version": "3.11.5"
  }
 },
 "nbformat": 4,
 "nbformat_minor": 5
}
